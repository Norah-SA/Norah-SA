{
 "cells": [
  {
   "cell_type": "code",
   "execution_count": 1,
   "id": "bf841a00",
   "metadata": {},
   "outputs": [],
   "source": [
    "from IPython.display import clear_output\n",
    "\n",
    "# function will display the tic tac toc bored\n",
    "def display_board(board): \n",
    "    clear_output()\n",
    "    print('  '  + board[7] + '  |  ' + board[8] + '  |  ' + board[9])\n",
    "    print('-----|-----|-----')\n",
    "    print('  '  + board[4] + '  |  ' + board[5] + '  |  ' + board[6])\n",
    "    print('-----|-----|-----')\n",
    "    print('  '  + board[1] + '  |  ' + board[2] + '  |  ' + board[3])"
   ]
  },
  {
   "cell_type": "code",
   "execution_count": 2,
   "id": "b1c10887",
   "metadata": {},
   "outputs": [],
   "source": [
    "def play():\n",
    "    playerChoice = ' '\n",
    "    \n",
    "    while not (playerChoice == 'X' or playerChoice == 'O'):\n",
    "        playerChoice = input('Player1: Choose X or O:').upper()\n",
    "        \n",
    "    if playerChoice == 'X':\n",
    "        \n",
    "        return ('X','O')\n",
    "    else:\n",
    "        return ('O', 'X')\n",
    "        "
   ]
  },
  {
   "cell_type": "code",
   "execution_count": 3,
   "id": "87359359",
   "metadata": {},
   "outputs": [],
   "source": [
    "# function will place player input X or O in the board\n",
    "\n",
    "def choosePlace(board,playerChoice, position):\n",
    "    \n",
    "    board[position] = playerChoice"
   ]
  },
  {
   "cell_type": "code",
   "execution_count": 4,
   "id": "5b35ebf5",
   "metadata": {},
   "outputs": [],
   "source": [
    "#function win \n",
    "\n",
    "def winner(board,playerChoice):\n",
    "    return ((board[7] == playerChoice and board[8] == playerChoice and board[9] == playerChoice) or \n",
    "    (board[4] == playerChoice and board[5] == playerChoice and board[6] == playerChoice) or \n",
    "    (board[1] == playerChoice and board[2] == playerChoice and board[3] == playerChoice) or \n",
    "    (board[7] == playerChoice and board[4] == playerChoice and board[1] == playerChoice) or \n",
    "    (board[8] == playerChoice and board[5] == playerChoice and board[2] == playerChoice) or \n",
    "    (board[9] == playerChoice and board[6] == playerChoice and board[3] == playerChoice) or \n",
    "    (board[7] == playerChoice and board[5] == playerChoice and board[3] == playerChoice) or \n",
    "    (board[9] == playerChoice and board[5] == playerChoice and board[1] == playerChoice)) "
   ]
  },
  {
   "cell_type": "code",
   "execution_count": 5,
   "id": "a02c2a69",
   "metadata": {},
   "outputs": [],
   "source": [
    "#decide which player goes first\n",
    "import random\n",
    "def chooseFirst():\n",
    "    if random.randint(0, 1) == 0:  \n",
    "        return 'Player 2'\n",
    "    else:\n",
    "        return 'Player 1'"
   ]
  },
  {
   "cell_type": "code",
   "execution_count": 6,
   "id": "9d423c4b",
   "metadata": {},
   "outputs": [],
   "source": [
    "# check if  the space in the board is available\n",
    "def checkPlace(board, position):\n",
    "    return board[position] == ' '"
   ]
  },
  {
   "cell_type": "code",
   "execution_count": 7,
   "id": "4bff457e",
   "metadata": {},
   "outputs": [],
   "source": [
    "# check if  the space in the board is full\n",
    "def fullBoard(board):\n",
    "    for i in range(1,10):\n",
    "        if checkPlace(board,i):\n",
    "            return False\n",
    "    return True"
   ]
  },
  {
   "cell_type": "code",
   "execution_count": 8,
   "id": "8d3bfd4e",
   "metadata": {},
   "outputs": [],
   "source": [
    "# ask the player for next position \n",
    "def player_choice(board):\n",
    "    position = 0\n",
    "    \n",
    "    while position not in [1,2,3,4,5,6,7,8,9] or not checkPlace(board,position):\n",
    "        position = int(input('Choose your next position: (1-9): '))\n",
    "         \n",
    "    return position\n",
    "    "
   ]
  },
  {
   "cell_type": "code",
   "execution_count": 9,
   "id": "999ad3a3",
   "metadata": {},
   "outputs": [],
   "source": [
    "# play again \n",
    "\n",
    "def replay():\n",
    "    return input('Do you want to play again? Enter Yes or No: ').lower().startswith('y')"
   ]
  },
  {
   "cell_type": "code",
   "execution_count": null,
   "id": "bf4d0407",
   "metadata": {},
   "outputs": [
    {
     "name": "stdout",
     "output_type": "stream",
     "text": [
      "     |     |   \n",
      "-----|-----|-----\n",
      "     |     |   \n",
      "-----|-----|-----\n",
      "  X  |     |   \n"
     ]
    }
   ],
   "source": [
    "print('----------| Welcome to Tic Tac Toe! |----------')\n",
    "\n",
    "while True:\n",
    "    board = [' ']*10\n",
    "    \n",
    "    player1,player2 = play()\n",
    "    turn = chooseFirst()\n",
    "    print(turn + ' will go first.')\n",
    "    \n",
    "    play = input('Are you ready to play? Enter Yes or No.')\n",
    "    \n",
    "    if play.lower()[0] == 'y':\n",
    "        game_on = True\n",
    "    else:\n",
    "        game_on = False\n",
    "        \n",
    "    while game_on:\n",
    "        if turn == 'Player 1':\n",
    "            \n",
    "            display_board(board)\n",
    "            position = player_choice(board)\n",
    "            choosePlace(board,player1,position)\n",
    "            \n",
    "            if winner(board,player1):\n",
    "                display_board(board)\n",
    "                print('Congratulations! You have won the game!')\n",
    "                game_on = False\n",
    "            else:\n",
    "                if fullBoard(board):\n",
    "                    display_board(board)\n",
    "                    print('The game is a draw!')\n",
    "                    break\n",
    "                else:\n",
    "                    turn = 'Player 2'\n",
    "        else:\n",
    "            \n",
    "            display_board(board)\n",
    "            position = player_choice(board)\n",
    "            choosePlace(board, player2,position)\n",
    "\n",
    "            if winner(board,player2):\n",
    "                display_board(board)\n",
    "                print('Player 2 has won!')\n",
    "                game_on = False\n",
    "            else:\n",
    "                if fullBoard(board):\n",
    "                    display_board(board)\n",
    "                    print('The game is a draw!')\n",
    "                    break\n",
    "                else:\n",
    "                    turn = 'Player 1'\n",
    "                        \n",
    "    if not replay():\n",
    "        break"
   ]
  },
  {
   "cell_type": "code",
   "execution_count": null,
   "id": "ce733ca1",
   "metadata": {},
   "outputs": [],
   "source": []
  }
 ],
 "metadata": {
  "kernelspec": {
   "display_name": "Python 3 (ipykernel)",
   "language": "python",
   "name": "python3"
  },
  "language_info": {
   "codemirror_mode": {
    "name": "ipython",
    "version": 3
   },
   "file_extension": ".py",
   "mimetype": "text/x-python",
   "name": "python",
   "nbconvert_exporter": "python",
   "pygments_lexer": "ipython3",
   "version": "3.9.7"
  }
 },
 "nbformat": 4,
 "nbformat_minor": 5
}
